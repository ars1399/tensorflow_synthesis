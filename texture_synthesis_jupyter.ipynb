{
 "cells": [
  {
   "cell_type": "markdown",
   "metadata": {},
   "source": [
    "How to adapt and run texture_synthesis scripts"
   ]
  },
  {
   "cell_type": "code",
   "execution_count": null,
   "metadata": {
    "vscode": {
     "languageId": "shellscript"
    }
   },
   "outputs": [],
   "source": [
    "#Ensure that the Working environment is set up properly and activated (i.e., conda init, conda activate dnn)\n",
    "conda create environment\n",
    "conda activate <environment>"
   ]
  },
  {
   "cell_type": "code",
   "execution_count": null,
   "metadata": {
    "vscode": {
     "languageId": "shellscript"
    }
   },
   "outputs": [],
   "source": [
    "#Install all necessary packages and the github repository\n",
    "conda install numpy, tensorflow, glob2\n",
    "wget <github repository>"
   ]
  },
  {
   "cell_type": "code",
   "execution_count": null,
   "metadata": {
    "vscode": {
     "languageId": "shellscript"
    }
   },
   "outputs": [],
   "source": [
    "#In TextureSynthesis.py, edit line 33 where self.pooling_weights_path is found and revise the path for your github repository.\n",
    "        self.pooling_weights_path = '/home/arsch/git_repos/TextureSynthesis/tensorflow_synthesis/subset_weights'\n",
    "        \n",
    "# In synthesize.py, edit lines 142-144 to correspond to your filepath\n",
    "    parser.add_argument(\"-d\", \"--inputdir\", default=\"/scratch/groups/jlg/texture_stimuli/color/originals\")\n",
    "    #parser.add_argument(\"-d\", \"--inputdir\", default=\"/home/arsch/image_scrambler/original\")\n",
    "\n",
    "    parser.add_argument(\"-o\", \"--outputdir\", default=\"/scratch/groups/jlg/texture_stimuli/color/textures\")\n",
    "    #parser.add_argument(\"-o\", \"--outputdir\", default=\"/home/arsch/image_scrambler/output\")\n",
    "\n",
    "    parser.add_argument(\"-i\", \"--imagepath\", default=\"/home/gru/akshay/manyOO/humanfaces/humanfaces_01.jpg\")\n",
    "    #parser.add_argument(\"-i\", \"--imagepath\", default=\"/home/arsch/image_scrambler/original\")\n"
   ]
  },
  {
   "cell_type": "code",
   "execution_count": null,
   "metadata": {
    "vscode": {
     "languageId": "shellscript"
    }
   },
   "outputs": [],
   "source": [
    "# In image_loop.py line 2, change the image path to correspond to where your input and output folders are located\n",
    "in_directory = \"/home/arsch/image_scrambler/*/*.JPEG\"\n"
   ]
  },
  {
   "cell_type": "code",
   "execution_count": null,
   "metadata": {
    "vscode": {
     "languageId": "shellscript"
    }
   },
   "outputs": [],
   "source": [
    "# In the image_loop.py file, the paramters of the image can be set\n",
    "POOLSIZE=\"1\" # \"1\" for 1x1, \"2\" for 2x2, \"3\" for 3x3 or \"4\" for 4x4.\n",
    "LAYER=\"pool1\" # \"pool1\", \"pool2\", \"pool3\", \"pool4\", \"pool5\"\n",
    "NUM_SAMPLES_TO_GENERATE=1\n",
    "\n",
    "python synthesize.py -i /home/arsch/image_scrambler/original/sitar.png -o /home/arsch/image_scrambler/output -p $POOLSIZE -l $LAYER -g 1 -s $NUM_SAMPLES_TO_GENERATE"
   ]
  }
 ],
 "metadata": {
  "kernelspec": {
   "display_name": "dnn",
   "language": "python",
   "name": "python3"
  },
  "language_info": {
   "codemirror_mode": {
    "name": "ipython",
    "version": 3
   },
   "file_extension": ".py",
   "mimetype": "text/x-python",
   "name": "python",
   "nbconvert_exporter": "python",
   "pygments_lexer": "ipython3",
   "version": "3.12.9"
  }
 },
 "nbformat": 4,
 "nbformat_minor": 2
}
