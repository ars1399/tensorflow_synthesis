{
 "cells": [
  {
   "cell_type": "code",
   "execution_count": null,
   "metadata": {
    "vscode": {
     "languageId": "shellscript"
    }
   },
   "outputs": [],
   "source": [
    "#Ensure that the Working environment is set up properly and activated (i.e., conda init, conda activate dnn)\n",
    "conda create environment\n",
    "conda activate <environment>"
   ]
  },
  {
   "cell_type": "code",
   "execution_count": null,
   "metadata": {
    "vscode": {
     "languageId": "shellscript"
    }
   },
   "outputs": [],
   "source": [
    "#Install all necessary packages and the github repository\n",
    "conda install numpy, tensorflow\n"
   ]
  },
  {
   "cell_type": "code",
   "execution_count": null,
   "metadata": {
    "vscode": {
     "languageId": "shellscript"
    }
   },
   "outputs": [],
   "source": [
    "#In TextureSynthesis.py, edit line 33 where self.pooling_weights_path is found and revise the path for your github repository.\n",
    "        self.pooling_weights_path = '/home/arsch/git_repos/TextureSynthesis/tensorflow_synthesis/subset_weights'\n",
    "        \n",
    "# In synthesize.py, edit lines 142-144\n",
    "    parser.add_argument(\"-d\", \"--inputdir\", default=\"/scratch/groups/jlg/texture_stimuli/color/originals\")\n",
    "    parser.add_argument(\"-o\", \"--outputdir\", default=\"/scratch/groups/jlg/texture_stimuli/color/textures\")\n",
    "    parser.add_argument(\"-i\", \"--imagepath\", default=\"/home/gru/akshay/manyOO/humanfaces/humanfaces_01.jpg\")\n",
    "\n",
    "        parser.add_argument(\"-i\", \"--imagepath\", default=\"/home/arsch/image_scrambler/humanfaces_01.jpg\")\n"
   ]
  },
  {
   "cell_type": "code",
   "execution_count": null,
   "metadata": {
    "vscode": {
     "languageId": "shellscript"
    }
   },
   "outputs": [],
   "source": [
    "# Original Example of the code to execute in terminal\n",
    "# cd into the tensorflow_synthesis directory before running.\n",
    "cd /home/arsch/git_repos/TextureSynthesis/tensorflow_synthesis \n",
    "\n",
    "POOLSIZE=\"1\" # \"1\" for 1x1, \"2\" for 2x2, \"3\" for 3x3 or \"4\" for 4x4.\n",
    "LAYER=\"pool1\" # \"pool1\", \"pool2\", \"pool3\", \"pool4\", \"pool5\"\n",
    "NUM_SAMPLES_TO_GENERATE=1\n",
    "\n",
    "python synthesize.py -i /home/arsch/image_scrambler/original/sitar.png -o /home/arsch/image_scrambler/output -p $POOLSIZE -l $LAYER -g 1 -s $NUM_SAMPLES_TO_GENERATE"
   ]
  },
  {
   "cell_type": "code",
   "execution_count": null,
   "metadata": {},
   "outputs": [
    {
     "name": "stdout",
     "output_type": "stream",
     "text": [
      "['/home/arsch/image_scrambler/original/cat.JPEG', '/home/arsch/image_scrambler/original/elephant.JPEG', '/home/arsch/image_scrambler/original/bear.JPEG']\n"
     ]
    }
   ],
   "source": [
    "in_directory = \"/home/arsch/image_scrambler/*/*.JPEG\"\n",
    "\n",
    "from glob import glob\n",
    "import subprocess \n",
    "image_paths = glob(in_directory)\n",
    "print(image_new)\n",
    "\n",
    "\n",
    "bash_cmd = 'python TextureSynth -i sdfdsfs -d pool4'\n",
    "\n",
    "bash_cmd = f'python texturesyn -i {im}'"
   ]
  },
  {
   "cell_type": "code",
   "execution_count": 23,
   "metadata": {},
   "outputs": [
    {
     "name": "stderr",
     "output_type": "stream",
     "text": [
      "2025-04-09 18:50:54.186654: I tensorflow/core/util/port.cc:153] oneDNN custom operations are on. You may see slightly different numerical results due to floating-point round-off errors from different computation orders. To turn them off, set the environment variable `TF_ENABLE_ONEDNN_OPTS=0`.\n",
      "2025-04-09 18:50:54.470999: I tensorflow/core/platform/cpu_feature_guard.cc:210] This TensorFlow binary is optimized to use available CPU instructions in performance-critical operations.\n",
      "To enable the following instructions: SSE4.1 SSE4.2 AVX AVX2 AVX512F AVX512_VNNI FMA, in other operations, rebuild TensorFlow with the appropriate compiler flags.\n",
      "WARNING:tensorflow:From /home/arsch/enter/envs/dnn/lib/python3.12/site-packages/tensorflow/python/compat/v2_compat.py:98: disable_resource_variables (from tensorflow.python.ops.resource_variables_toggle) is deprecated and will be removed in a future version.\n",
      "Instructions for updating:\n",
      "non-resource variables are not supported in the long term\n"
     ]
    },
    {
     "name": "stdout",
     "output_type": "stream",
     "text": [
      "Synthesizing texture cat matching model pool4 for 5000 iterations, with nPools: 1\n"
     ]
    },
    {
     "name": "stderr",
     "output_type": "stream",
     "text": [
      "WARNING:tensorflow:From /home/arsch/enter/envs/dnn/lib/python3.12/site-packages/tensorflow/python/util/tf_should_use.py:288: initialize_all_variables (from tensorflow.python.ops.variables) is deprecated and will be removed after 2017-03-02.\n",
      "Instructions for updating:\n",
      "Use `tf.global_variables_initializer` instead.\n",
      "2025-04-09 18:51:03.948908: I tensorflow/compiler/mlir/mlir_graph_optimization_pass.cc:388] MLIR V1 optimization pass is not enabled\n"
     ]
    },
    {
     "name": "stdout",
     "output_type": "stream",
     "text": [
      "Getting net size took 0.0015680789947509766 seconds\n",
      "Getting subset boundaries took 0.0012445449829101562 seconds\n",
      "/home/arsch/git_repos/TextureSynthesis/tensorflow_synthesis/subset_weights/1x1_tile.npy dict_keys(['conv5_4', 'conv5_1', 'conv5_3', 'conv5_2', 'conv4_4', 'pool4', 'conv4_1', 'conv4_2', 'conv4_3', 'pool3', 'conv3_2', 'conv3_1', 'conv1_1', 'pool2', 'pool1', 'conv1_2', 'conv2_2', 'pool5', 'conv2_1'])\n",
      "Precomputing layer subset weights took 0.031 seconds\n"
     ]
    },
    {
     "name": "stderr",
     "output_type": "stream",
     "text": [
      "2025-04-09 18:51:04.263462: W tensorflow/c/c_api.cc:305] Operation '{name:'Variable/Assign' id:4 op device:{requested: '', assigned: ''} def:{{{node Variable/Assign}} = Assign[T=DT_FLOAT, _class=[\"loc:@Variable\"], _has_manual_control_dependencies=true, use_locking=true, validate_shape=true](Variable, Variable/initial_value)}}' was changed by setting attribute after it was run by a session. This mutation will have no effect, and will trigger an error in the future. Either don't modify nodes after running them or create a new session.\n"
     ]
    },
    {
     "name": "stdout",
     "output_type": "stream",
     "text": [
      "Getting gramian took 3.015 seconds\n",
      "Generating sample 1 of 1\n"
     ]
    },
    {
     "name": "stderr",
     "output_type": "stream",
     "text": [
      "2025-04-09 18:51:07.242521: W tensorflow/c/c_api.cc:305] Operation '{name:'Variable/Assign' id:4 op device:{requested: '', assigned: ''} def:{{{node Variable/Assign}} = Assign[T=DT_FLOAT, _class=[\"loc:@Variable\"], _has_manual_control_dependencies=true, use_locking=true, validate_shape=true](Variable, Variable/initial_value)}}' was changed by setting attribute after it was run by a session. This mutation will have no effect, and will trigger an error in the future. Either don't modify nodes after running them or create a new session.\n"
     ]
    },
    {
     "name": "stdout",
     "output_type": "stream",
     "text": [
      "conv1_1\n",
      "pool1\n",
      "pool2\n",
      "pool3\n",
      "pool4\n",
      "(1, 3, 256, 256) (1, 3, 256, 256)\n"
     ]
    },
    {
     "name": "stderr",
     "output_type": "stream",
     "text": [
      "WARNING:tensorflow:From /home/arsch/enter/envs/dnn/lib/python3.12/site-packages/tensorflow/python/util/dispatch.py:1260: to_float (from tensorflow.python.ops.math_ops) is deprecated and will be removed in a future version.\n",
      "Instructions for updating:\n",
      "Use `tf.cast` instead.\n"
     ]
    },
    {
     "name": "stdout",
     "output_type": "stream",
     "text": [
      "Using texture loss\n"
     ]
    },
    {
     "name": "stderr",
     "output_type": "stream",
     "text": [
      "2025-04-09 18:51:09.472034: W tensorflow/c/c_api.cc:305] Operation '{name:'Variable/Assign' id:4 op device:{requested: '', assigned: ''} def:{{{node Variable/Assign}} = Assign[T=DT_FLOAT, _class=[\"loc:@Variable\"], _has_manual_control_dependencies=true, use_locking=true, validate_shape=true](Variable, Variable/initial_value)}}' was changed by setting attribute after it was run by a session. This mutation will have no effect, and will trigger an error in the future. Either don't modify nodes after running them or create a new session.\n"
     ]
    },
    {
     "name": "stdout",
     "output_type": "stream",
     "text": [
      "Iteration: 0; Texture Loss: 1530047616.0; Spectral Loss: 2.502e+13; Luminance Histogram Loss: 9.781e+06\n",
      "Saving image...\n",
      "Iteration: 200; Texture Loss: 17777592.0; Spectral Loss: 1.560e+13; Luminance Histogram Loss: 3.034e+06\n",
      "Iteration: 400; Texture Loss: 7631581.0; Spectral Loss: 1.359e+13; Luminance Histogram Loss: 1.745e+06\n",
      "Iteration: 600; Texture Loss: 3865456.0; Spectral Loss: 1.205e+13; Luminance Histogram Loss: 8.541e+05\n",
      "Iteration: 800; Texture Loss: 2297253.2; Spectral Loss: 1.131e+13; Luminance Histogram Loss: 3.577e+05\n",
      "Iteration: 1000; Texture Loss: 1625421.5; Spectral Loss: 1.104e+13; Luminance Histogram Loss: 1.419e+05\n",
      "Saving image...\n",
      "Iteration: 1200; Texture Loss: 1289568.8; Spectral Loss: 1.092e+13; Luminance Histogram Loss: 5.526e+04\n",
      "Iteration: 1400; Texture Loss: 1093564.5; Spectral Loss: 1.083e+13; Luminance Histogram Loss: 2.074e+04\n",
      "Iteration: 1600; Texture Loss: 957416.5; Spectral Loss: 1.075e+13; Luminance Histogram Loss: 7.758e+03\n",
      "Iteration: 1800; Texture Loss: 854478.9; Spectral Loss: 1.067e+13; Luminance Histogram Loss: 3.783e+03\n",
      "Iteration: 2000; Texture Loss: 773513.2; Spectral Loss: 1.059e+13; Luminance Histogram Loss: 3.557e+03\n",
      "Saving image...\n",
      "Iteration: 2200; Texture Loss: 709293.8; Spectral Loss: 1.051e+13; Luminance Histogram Loss: 4.505e+03\n",
      "Iteration: 2400; Texture Loss: 657095.1; Spectral Loss: 1.043e+13; Luminance Histogram Loss: 5.883e+03\n",
      "Iteration: 2600; Texture Loss: 614506.4; Spectral Loss: 1.036e+13; Luminance Histogram Loss: 7.347e+03\n",
      "Iteration: 2800; Texture Loss: 578366.9; Spectral Loss: 1.029e+13; Luminance Histogram Loss: 8.726e+03\n",
      "Iteration: 3000; Texture Loss: 547830.8; Spectral Loss: 1.022e+13; Luminance Histogram Loss: 9.973e+03\n",
      "Saving image...\n",
      "Iteration: 3200; Texture Loss: 521955.5; Spectral Loss: 1.015e+13; Luminance Histogram Loss: 1.107e+04\n",
      "Iteration: 3400; Texture Loss: 497916.1; Spectral Loss: 1.009e+13; Luminance Histogram Loss: 1.213e+04\n",
      "Iteration: 3600; Texture Loss: 475688.0; Spectral Loss: 1.003e+13; Luminance Histogram Loss: 1.288e+04\n",
      "Iteration: 3800; Texture Loss: 456013.1; Spectral Loss: 9.958e+12; Luminance Histogram Loss: 1.362e+04\n",
      "Iteration: 4000; Texture Loss: 438371.8; Spectral Loss: 9.883e+12; Luminance Histogram Loss: 1.429e+04\n",
      "Saving image...\n",
      "Iteration: 4200; Texture Loss: 422298.6; Spectral Loss: 9.804e+12; Luminance Histogram Loss: 1.491e+04\n",
      "Iteration: 4400; Texture Loss: 407598.1; Spectral Loss: 9.728e+12; Luminance Histogram Loss: 1.559e+04\n",
      "Iteration: 4600; Texture Loss: 418585.2; Spectral Loss: 9.650e+12; Luminance Histogram Loss: 1.679e+04\n",
      "Iteration: 4800; Texture Loss: 381225.5; Spectral Loss: 9.561e+12; Luminance Histogram Loss: 1.623e+04\n",
      "Iteration: 5000; Texture Loss: 370626.8; Spectral Loss: 9.484e+12; Luminance Histogram Loss: 1.640e+04\n",
      "Saving image...\n",
      "Done synthesizing one image - took 2040.59 seconds.\n",
      "cat_1x1_pool4_smp1_step_5000.npy saved as PNG to /home/arsch/image_scrambler/output\n",
      "Done synthesizing all images. Took 2046.37 seconds in total.\n"
     ]
    },
    {
     "name": "stderr",
     "output_type": "stream",
     "text": [
      "2025-04-09 19:25:14.098701: I tensorflow/core/util/port.cc:153] oneDNN custom operations are on. You may see slightly different numerical results due to floating-point round-off errors from different computation orders. To turn them off, set the environment variable `TF_ENABLE_ONEDNN_OPTS=0`.\n",
      "2025-04-09 19:25:14.482573: I tensorflow/core/platform/cpu_feature_guard.cc:210] This TensorFlow binary is optimized to use available CPU instructions in performance-critical operations.\n",
      "To enable the following instructions: SSE4.1 SSE4.2 AVX AVX2 AVX512F AVX512_VNNI FMA, in other operations, rebuild TensorFlow with the appropriate compiler flags.\n",
      "WARNING:tensorflow:From /home/arsch/enter/envs/dnn/lib/python3.12/site-packages/tensorflow/python/compat/v2_compat.py:98: disable_resource_variables (from tensorflow.python.ops.resource_variables_toggle) is deprecated and will be removed in a future version.\n",
      "Instructions for updating:\n",
      "non-resource variables are not supported in the long term\n"
     ]
    },
    {
     "name": "stdout",
     "output_type": "stream",
     "text": [
      "Synthesizing texture elephant matching model pool4 for 5000 iterations, with nPools: 1\n"
     ]
    },
    {
     "name": "stderr",
     "output_type": "stream",
     "text": [
      "WARNING:tensorflow:From /home/arsch/enter/envs/dnn/lib/python3.12/site-packages/tensorflow/python/util/tf_should_use.py:288: initialize_all_variables (from tensorflow.python.ops.variables) is deprecated and will be removed after 2017-03-02.\n",
      "Instructions for updating:\n",
      "Use `tf.global_variables_initializer` instead.\n",
      "2025-04-09 19:25:23.648933: I tensorflow/compiler/mlir/mlir_graph_optimization_pass.cc:388] MLIR V1 optimization pass is not enabled\n"
     ]
    },
    {
     "name": "stdout",
     "output_type": "stream",
     "text": [
      "Getting net size took 0.00010204315185546875 seconds\n",
      "Getting subset boundaries took 8.559226989746094e-05 seconds\n",
      "/home/arsch/git_repos/TextureSynthesis/tensorflow_synthesis/subset_weights/1x1_tile.npy dict_keys(['conv5_4', 'conv5_1', 'conv5_3', 'conv5_2', 'conv4_4', 'pool4', 'conv4_1', 'conv4_2', 'conv4_3', 'pool3', 'conv3_2', 'conv3_1', 'conv1_1', 'pool2', 'pool1', 'conv1_2', 'conv2_2', 'pool5', 'conv2_1'])\n",
      "Precomputing layer subset weights took 0.005 seconds\n"
     ]
    },
    {
     "name": "stderr",
     "output_type": "stream",
     "text": [
      "2025-04-09 19:25:23.890319: W tensorflow/c/c_api.cc:305] Operation '{name:'Variable/Assign' id:4 op device:{requested: '', assigned: ''} def:{{{node Variable/Assign}} = Assign[T=DT_FLOAT, _class=[\"loc:@Variable\"], _has_manual_control_dependencies=true, use_locking=true, validate_shape=true](Variable, Variable/initial_value)}}' was changed by setting attribute after it was run by a session. This mutation will have no effect, and will trigger an error in the future. Either don't modify nodes after running them or create a new session.\n"
     ]
    },
    {
     "name": "stdout",
     "output_type": "stream",
     "text": [
      "Getting gramian took 3.527 seconds\n",
      "Generating sample 1 of 1\n",
      "conv1_1\n",
      "pool1\n"
     ]
    },
    {
     "name": "stderr",
     "output_type": "stream",
     "text": [
      "2025-04-09 19:25:27.417054: W tensorflow/c/c_api.cc:305] Operation '{name:'Variable/Assign' id:4 op device:{requested: '', assigned: ''} def:{{{node Variable/Assign}} = Assign[T=DT_FLOAT, _class=[\"loc:@Variable\"], _has_manual_control_dependencies=true, use_locking=true, validate_shape=true](Variable, Variable/initial_value)}}' was changed by setting attribute after it was run by a session. This mutation will have no effect, and will trigger an error in the future. Either don't modify nodes after running them or create a new session.\n",
      "WARNING:tensorflow:From /home/arsch/enter/envs/dnn/lib/python3.12/site-packages/tensorflow/python/util/dispatch.py:1260: to_float (from tensorflow.python.ops.math_ops) is deprecated and will be removed in a future version.\n",
      "Instructions for updating:\n",
      "Use `tf.cast` instead.\n"
     ]
    },
    {
     "name": "stdout",
     "output_type": "stream",
     "text": [
      "pool2\n",
      "pool3\n",
      "pool4\n",
      "(1, 3, 256, 256) (1, 3, 256, 256)\n",
      "Using texture loss\n"
     ]
    },
    {
     "name": "stderr",
     "output_type": "stream",
     "text": [
      "2025-04-09 19:25:28.098913: W tensorflow/c/c_api.cc:305] Operation '{name:'Variable/Assign' id:4 op device:{requested: '', assigned: ''} def:{{{node Variable/Assign}} = Assign[T=DT_FLOAT, _class=[\"loc:@Variable\"], _has_manual_control_dependencies=true, use_locking=true, validate_shape=true](Variable, Variable/initial_value)}}' was changed by setting attribute after it was run by a session. This mutation will have no effect, and will trigger an error in the future. Either don't modify nodes after running them or create a new session.\n"
     ]
    },
    {
     "name": "stdout",
     "output_type": "stream",
     "text": [
      "Iteration: 0; Texture Loss: 2507953664.0; Spectral Loss: 5.427e+13; Luminance Histogram Loss: 4.659e+07\n",
      "Saving image...\n",
      "Iteration: 200; Texture Loss: 61603136.0; Spectral Loss: 3.493e+13; Luminance Histogram Loss: 2.517e+07\n",
      "Iteration: 400; Texture Loss: 29681000.0; Spectral Loss: 2.584e+13; Luminance Histogram Loss: 1.403e+07\n",
      "Iteration: 600; Texture Loss: 15022328.0; Spectral Loss: 1.998e+13; Luminance Histogram Loss: 5.141e+06\n",
      "Iteration: 800; Texture Loss: 10803652.0; Spectral Loss: 1.826e+13; Luminance Histogram Loss: 1.783e+06\n",
      "Iteration: 1000; Texture Loss: 7168984.0; Spectral Loss: 1.764e+13; Luminance Histogram Loss: 6.989e+05\n",
      "Saving image...\n",
      "Iteration: 1200; Texture Loss: 5837771.0; Spectral Loss: 1.739e+13; Luminance Histogram Loss: 2.870e+05\n",
      "Iteration: 1400; Texture Loss: 5420892.0; Spectral Loss: 1.728e+13; Luminance Histogram Loss: 1.122e+05\n",
      "Iteration: 1600; Texture Loss: 4906916.0; Spectral Loss: 1.721e+13; Luminance Histogram Loss: 4.453e+04\n",
      "Iteration: 1800; Texture Loss: 216320432.0; Spectral Loss: 1.756e+13; Luminance Histogram Loss: 4.333e+04\n",
      "Iteration: 2000; Texture Loss: 28500374.0; Spectral Loss: 1.679e+13; Luminance Histogram Loss: 5.090e+04\n",
      "Saving image...\n",
      "Iteration: 2200; Texture Loss: 5001559.5; Spectral Loss: 1.688e+13; Luminance Histogram Loss: 1.920e+04\n",
      "Iteration: 2400; Texture Loss: 4278199.5; Spectral Loss: 1.691e+13; Luminance Histogram Loss: 2.335e+04\n",
      "Iteration: 2600; Texture Loss: 3840821.5; Spectral Loss: 1.694e+13; Luminance Histogram Loss: 3.440e+04\n",
      "Iteration: 2800; Texture Loss: 4306614.0; Spectral Loss: 1.696e+13; Luminance Histogram Loss: 4.785e+04\n",
      "Iteration: 3000; Texture Loss: 3536287.2; Spectral Loss: 1.697e+13; Luminance Histogram Loss: 6.024e+04\n",
      "Saving image...\n",
      "Iteration: 3200; Texture Loss: 3182002.2; Spectral Loss: 1.701e+13; Luminance Histogram Loss: 7.567e+04\n",
      "Iteration: 3400; Texture Loss: 3068221.0; Spectral Loss: 1.703e+13; Luminance Histogram Loss: 9.073e+04\n",
      "Iteration: 3600; Texture Loss: 3038512.0; Spectral Loss: 1.704e+13; Luminance Histogram Loss: 1.031e+05\n",
      "Iteration: 3800; Texture Loss: 2849288.2; Spectral Loss: 1.706e+13; Luminance Histogram Loss: 1.133e+05\n",
      "Iteration: 4000; Texture Loss: 28947750.0; Spectral Loss: 1.707e+13; Luminance Histogram Loss: 1.235e+05\n",
      "Saving image...\n",
      "Iteration: 4200; Texture Loss: 3589663.2; Spectral Loss: 1.697e+13; Luminance Histogram Loss: 1.034e+05\n",
      "Iteration: 4400; Texture Loss: 3003432.8; Spectral Loss: 1.700e+13; Luminance Histogram Loss: 1.219e+05\n",
      "Iteration: 4600; Texture Loss: 2896588.5; Spectral Loss: 1.701e+13; Luminance Histogram Loss: 1.365e+05\n",
      "Iteration: 4800; Texture Loss: 2985785.5; Spectral Loss: 1.705e+13; Luminance Histogram Loss: 1.519e+05\n",
      "Iteration: 5000; Texture Loss: 2443614.2; Spectral Loss: 1.708e+13; Luminance Histogram Loss: 1.651e+05\n",
      "Saving image...\n",
      "Done synthesizing one image - took 1803.05 seconds.\n",
      "elephant_1x1_pool4_smp1_step_5000.npy saved as PNG to /home/arsch/image_scrambler/output\n",
      "Done synthesizing all images. Took 1809.55 seconds in total.\n"
     ]
    },
    {
     "name": "stderr",
     "output_type": "stream",
     "text": [
      "2025-04-09 19:55:35.409702: I tensorflow/core/util/port.cc:153] oneDNN custom operations are on. You may see slightly different numerical results due to floating-point round-off errors from different computation orders. To turn them off, set the environment variable `TF_ENABLE_ONEDNN_OPTS=0`.\n",
      "2025-04-09 19:55:35.633593: I tensorflow/core/platform/cpu_feature_guard.cc:210] This TensorFlow binary is optimized to use available CPU instructions in performance-critical operations.\n",
      "To enable the following instructions: SSE4.1 SSE4.2 AVX AVX2 AVX512F AVX512_VNNI FMA, in other operations, rebuild TensorFlow with the appropriate compiler flags.\n",
      "WARNING:tensorflow:From /home/arsch/enter/envs/dnn/lib/python3.12/site-packages/tensorflow/python/compat/v2_compat.py:98: disable_resource_variables (from tensorflow.python.ops.resource_variables_toggle) is deprecated and will be removed in a future version.\n",
      "Instructions for updating:\n",
      "non-resource variables are not supported in the long term\n"
     ]
    },
    {
     "name": "stdout",
     "output_type": "stream",
     "text": [
      "Synthesizing texture bear matching model pool4 for 5000 iterations, with nPools: 1\n"
     ]
    },
    {
     "name": "stderr",
     "output_type": "stream",
     "text": [
      "WARNING:tensorflow:From /home/arsch/enter/envs/dnn/lib/python3.12/site-packages/tensorflow/python/util/tf_should_use.py:288: initialize_all_variables (from tensorflow.python.ops.variables) is deprecated and will be removed after 2017-03-02.\n",
      "Instructions for updating:\n",
      "Use `tf.global_variables_initializer` instead.\n",
      "2025-04-09 19:55:43.164244: I tensorflow/compiler/mlir/mlir_graph_optimization_pass.cc:388] MLIR V1 optimization pass is not enabled\n",
      "2025-04-09 19:55:43.317329: W tensorflow/c/c_api.cc:305] Operation '{name:'Variable/Assign' id:4 op device:{requested: '', assigned: ''} def:{{{node Variable/Assign}} = Assign[T=DT_FLOAT, _class=[\"loc:@Variable\"], _has_manual_control_dependencies=true, use_locking=true, validate_shape=true](Variable, Variable/initial_value)}}' was changed by setting attribute after it was run by a session. This mutation will have no effect, and will trigger an error in the future. Either don't modify nodes after running them or create a new session.\n"
     ]
    },
    {
     "name": "stdout",
     "output_type": "stream",
     "text": [
      "Getting net size took 0.0002028942108154297 seconds\n",
      "Getting subset boundaries took 0.0007290840148925781 seconds\n",
      "/home/arsch/git_repos/TextureSynthesis/tensorflow_synthesis/subset_weights/1x1_tile.npy dict_keys(['conv5_4', 'conv5_1', 'conv5_3', 'conv5_2', 'conv4_4', 'pool4', 'conv4_1', 'conv4_2', 'conv4_3', 'pool3', 'conv3_2', 'conv3_1', 'conv1_1', 'pool2', 'pool1', 'conv1_2', 'conv2_2', 'pool5', 'conv2_1'])\n",
      "Precomputing layer subset weights took 0.009 seconds\n",
      "Getting gramian took 2.229 seconds\n",
      "Generating sample 1 of 1\n"
     ]
    },
    {
     "name": "stderr",
     "output_type": "stream",
     "text": [
      "2025-04-09 19:55:45.547209: W tensorflow/c/c_api.cc:305] Operation '{name:'Variable/Assign' id:4 op device:{requested: '', assigned: ''} def:{{{node Variable/Assign}} = Assign[T=DT_FLOAT, _class=[\"loc:@Variable\"], _has_manual_control_dependencies=true, use_locking=true, validate_shape=true](Variable, Variable/initial_value)}}' was changed by setting attribute after it was run by a session. This mutation will have no effect, and will trigger an error in the future. Either don't modify nodes after running them or create a new session.\n"
     ]
    },
    {
     "name": "stdout",
     "output_type": "stream",
     "text": [
      "conv1_1\n",
      "pool1\n",
      "pool2\n",
      "pool3\n",
      "pool4\n",
      "(1, 3, 256, 256) (1, 3, 256, 256)\n",
      "Using texture loss\n"
     ]
    },
    {
     "name": "stderr",
     "output_type": "stream",
     "text": [
      "WARNING:tensorflow:From /home/arsch/enter/envs/dnn/lib/python3.12/site-packages/tensorflow/python/util/dispatch.py:1260: to_float (from tensorflow.python.ops.math_ops) is deprecated and will be removed in a future version.\n",
      "Instructions for updating:\n",
      "Use `tf.cast` instead.\n",
      "2025-04-09 19:55:46.361220: W tensorflow/c/c_api.cc:305] Operation '{name:'Variable/Assign' id:4 op device:{requested: '', assigned: ''} def:{{{node Variable/Assign}} = Assign[T=DT_FLOAT, _class=[\"loc:@Variable\"], _has_manual_control_dependencies=true, use_locking=true, validate_shape=true](Variable, Variable/initial_value)}}' was changed by setting attribute after it was run by a session. This mutation will have no effect, and will trigger an error in the future. Either don't modify nodes after running them or create a new session.\n"
     ]
    },
    {
     "name": "stdout",
     "output_type": "stream",
     "text": [
      "Iteration: 0; Texture Loss: 790012992.0; Spectral Loss: 6.360e+13; Luminance Histogram Loss: 5.605e+07\n",
      "Saving image...\n",
      "Iteration: 200; Texture Loss: 66495708.0; Spectral Loss: 4.484e+13; Luminance Histogram Loss: 3.430e+07\n",
      "Iteration: 400; Texture Loss: 12201791.0; Spectral Loss: 3.909e+13; Luminance Histogram Loss: 1.912e+07\n",
      "Iteration: 600; Texture Loss: 6030461.0; Spectral Loss: 3.558e+13; Luminance Histogram Loss: 1.379e+07\n",
      "Iteration: 800; Texture Loss: 4339354.0; Spectral Loss: 3.376e+13; Luminance Histogram Loss: 1.084e+07\n",
      "Iteration: 1000; Texture Loss: 3391724.5; Spectral Loss: 3.250e+13; Luminance Histogram Loss: 8.404e+06\n",
      "Saving image...\n",
      "Iteration: 1200; Texture Loss: 2441232.5; Spectral Loss: 3.174e+13; Luminance Histogram Loss: 6.335e+06\n",
      "Iteration: 1400; Texture Loss: 1906584.9; Spectral Loss: 3.158e+13; Luminance Histogram Loss: 4.923e+06\n",
      "Iteration: 1600; Texture Loss: 1564303.8; Spectral Loss: 3.186e+13; Luminance Histogram Loss: 4.008e+06\n",
      "Iteration: 1800; Texture Loss: 1342634.0; Spectral Loss: 3.240e+13; Luminance Histogram Loss: 3.445e+06\n",
      "Iteration: 2000; Texture Loss: 2077503.5; Spectral Loss: 3.307e+13; Luminance Histogram Loss: 3.074e+06\n",
      "Saving image...\n",
      "Iteration: 2200; Texture Loss: 1104454.1; Spectral Loss: 3.410e+13; Luminance Histogram Loss: 2.741e+06\n",
      "Iteration: 2400; Texture Loss: 1111349.8; Spectral Loss: 3.496e+13; Luminance Histogram Loss: 2.504e+06\n",
      "Iteration: 2600; Texture Loss: 958184.8; Spectral Loss: 3.594e+13; Luminance Histogram Loss: 2.299e+06\n",
      "Iteration: 2800; Texture Loss: 893008.6; Spectral Loss: 3.682e+13; Luminance Histogram Loss: 2.128e+06\n",
      "Iteration: 3000; Texture Loss: 947936.6; Spectral Loss: 3.863e+13; Luminance Histogram Loss: 1.736e+06\n",
      "Saving image...\n",
      "Iteration: 3200; Texture Loss: 838479.6; Spectral Loss: 3.977e+13; Luminance Histogram Loss: 1.597e+06\n",
      "Iteration: 3400; Texture Loss: 769383.9; Spectral Loss: 4.068e+13; Luminance Histogram Loss: 1.481e+06\n",
      "Iteration: 3600; Texture Loss: 9798875.0; Spectral Loss: 4.148e+13; Luminance Histogram Loss: 1.192e+06\n",
      "Iteration: 3800; Texture Loss: 1099723.9; Spectral Loss: 4.355e+13; Luminance Histogram Loss: 4.732e+05\n",
      "Iteration: 4000; Texture Loss: 911957.6; Spectral Loss: 4.379e+13; Luminance Histogram Loss: 4.310e+05\n",
      "Saving image...\n",
      "Iteration: 4200; Texture Loss: 802734.2; Spectral Loss: 4.398e+13; Luminance Histogram Loss: 3.920e+05\n",
      "Iteration: 4400; Texture Loss: 746159.2; Spectral Loss: 4.413e+13; Luminance Histogram Loss: 3.576e+05\n",
      "Iteration: 4600; Texture Loss: 697608.0; Spectral Loss: 4.425e+13; Luminance Histogram Loss: 3.250e+05\n",
      "Iteration: 4800; Texture Loss: 669024.9; Spectral Loss: 4.438e+13; Luminance Histogram Loss: 2.907e+05\n",
      "Iteration: 5000; Texture Loss: 640274.9; Spectral Loss: 4.450e+13; Luminance Histogram Loss: 2.594e+05\n",
      "Saving image...\n",
      "Done synthesizing one image - took 1774.81 seconds.\n",
      "bear_1x1_pool4_smp1_step_5000.npy saved as PNG to /home/arsch/image_scrambler/output\n",
      "Done synthesizing all images. Took 1780.77 seconds in total.\n"
     ]
    }
   ],
   "source": [
    "POOLSIZE=\"1\" # \"1\" for 1x1, \"2\" for 2x2, \"3\" for 3x3 or \"4\" for 4x4.\n",
    "LAYER=\"pool4\" # \"pool1\", \"pool2\", \"pool3\", \"pool4\", \"pool5\"\n",
    "NUM_SAMPLES_TO_GENERATE=1\n",
    "\n",
    "for im in image_paths:\n",
    "    bash_cmd = f'python synthesize.py -i {im} -o /home/arsch/image_scrambler/output -p {POOLSIZE} -l {LAYER} -g 1 -s {NUM_SAMPLES_TO_GENERATE}'\n",
    "    subprocess.run(bash_cmd, check = True, shell=True)"
   ]
  },
  {
   "cell_type": "code",
   "execution_count": null,
   "metadata": {},
   "outputs": [
    {
     "name": "stdout",
     "output_type": "stream",
     "text": [
      "a\n",
      "c\n",
      "3\n",
      "True\n",
      "False\n"
     ]
    }
   ],
   "source": [
    "some_list = ['a','c',3, True, False]\n",
    "\n",
    "for im_n in some_list:\n",
    "    print(im_n)"
   ]
  },
  {
   "cell_type": "code",
   "execution_count": 8,
   "metadata": {
    "vscode": {
     "languageId": "shellscript"
    }
   },
   "outputs": [
    {
     "data": {
      "text/plain": [
       "['/home/arsch/image_scrambler/original/bear.JPEG:Zone.Identifier',\n",
       " '/home/arsch/image_scrambler/original/elephant.JPEG:Zone.Identifier',\n",
       " '/home/arsch/image_scrambler/original/cat.JPEG',\n",
       " '/home/arsch/image_scrambler/original/elephant.JPEG',\n",
       " '/home/arsch/image_scrambler/original/bear.JPEG',\n",
       " '/home/arsch/image_scrambler/original/cat.JPEG:Zone.Identifier']"
      ]
     },
     "execution_count": 8,
     "metadata": {},
     "output_type": "execute_result"
    }
   ],
   "source": [
    "import glob\n",
    "\n",
    "glob.glob(in_directory)"
   ]
  },
  {
   "cell_type": "code",
   "execution_count": null,
   "metadata": {
    "vscode": {
     "languageId": "shellscript"
    }
   },
   "outputs": [],
   "source": [
    "POOLSIZE=\"3\"\n",
    "LAYER=\"pool3\"                                              \n",
    "NUM_SAMPLES_TO_GENERATE=1\n",
    "\n",
    "python synthesize.py -i /home/arsch/image_scrambler/original/sitar.png -o /home/arsch/image_scrambler/output -p \"3\" -l \"pool3\" -g 1 -s 1\n",
    "\n",
    "python synthesize.py -p \"3\" -l \"pool3\" -g 1 -s 1"
   ]
  }
 ],
 "metadata": {
  "kernelspec": {
   "display_name": "dnn",
   "language": "python",
   "name": "python3"
  },
  "language_info": {
   "codemirror_mode": {
    "name": "ipython",
    "version": 3
   },
   "file_extension": ".py",
   "mimetype": "text/x-python",
   "name": "python",
   "nbconvert_exporter": "python",
   "pygments_lexer": "ipython3",
   "version": "3.12.9"
  }
 },
 "nbformat": 4,
 "nbformat_minor": 2
}
